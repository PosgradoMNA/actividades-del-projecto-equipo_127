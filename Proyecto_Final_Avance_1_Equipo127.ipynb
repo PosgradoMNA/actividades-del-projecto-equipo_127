{
  "nbformat": 4,
  "nbformat_minor": 0,
  "metadata": {
    "colab": {
      "provenance": [],
      "collapsed_sections": [],
      "authorship_tag": "ABX9TyMbLXXN2JLRyE7seJ7zylvk",
      "include_colab_link": true
    },
    "kernelspec": {
      "name": "python3",
      "display_name": "Python 3"
    },
    "language_info": {
      "name": "python"
    }
  },
  "cells": [
    {
      "cell_type": "markdown",
      "metadata": {
        "id": "view-in-github",
        "colab_type": "text"
      },
      "source": [
        "<a href=\"https://colab.research.google.com/github/PosgradoMNA/actividades-del-projecto-equipo_127/blob/main/Proyecto_Final_Avance_1_Equipo127.ipynb\" target=\"_parent\"><img src=\"https://colab.research.google.com/assets/colab-badge.svg\" alt=\"Open In Colab\"/></a>"
      ]
    },
    {
      "cell_type": "code",
      "execution_count": null,
      "metadata": {
        "id": "6OnW6y1H06Xo"
      },
      "outputs": [],
      "source": [
        "#Proyecto Final - Avance 1"
      ]
    },
    {
      "cell_type": "code",
      "source": [
        "#Tabla: Telco Customer Churn\n",
        "#Link: https://www.kaggle.com/datasets/blastchar/telco-customer-churn"
      ],
      "metadata": {
        "id": "8AxeQWY_1FYY"
      },
      "execution_count": 2,
      "outputs": []
    },
    {
      "cell_type": "code",
      "source": [
        "#Descripción:\n",
        "#Este conjunto de datos representa una tabla de clientes de una empresa de telecomunicaciones. \n",
        "#Tiene alrededor de 7,000 clientes y contiene infromación demográfica e histórica del cliente con variables relacionadas al abandono"
      ],
      "metadata": {
        "id": "QP8NRZT21anG"
      },
      "execution_count": 3,
      "outputs": []
    },
    {
      "cell_type": "code",
      "source": [
        "#Preguntas de investigación\n",
        "\n",
        "# 1. ¿La calidad de la información es suficiente para un correcto análisis?\n",
        "# 2. ¿Hay muchos valores faltantes en nuestra tabla de clientes?\n",
        "# 3. ¿Cuál es nuestro segmento de clientes más rentable?\n",
        "# 4. ¿Cuáles son las características de este segmento de clientes?\n",
        "# 5. ¿Cuál es la antiguedad media de nuestros clientes? ¿Cuál es en nuestro segmento estrella?\n",
        "# 6. ¿Cuál es nuestro servicio más consumido?\n",
        "# 7. ¿Cuál es la probabilidad de abandono de cada uno de nuestros clientes?\n",
        "# 8. ¿Cuáles son las variables más significativas para determinar la probabilidad de abandono?\n",
        "# 9. ¿Cuál es el Customer Lifetime Value de nuestros clientes?\n",
        "# 10 ¿A qué clientes vale más la pena retener?"
      ],
      "metadata": {
        "id": "cgpOaZR-1xuQ"
      },
      "execution_count": 8,
      "outputs": []
    },
    {
      "cell_type": "code",
      "source": [
        "# Empresas como Telcel, Telefónica y AT&T serían de las principales interesadas en responder este tipo de preguntas, de hecho invierten una buena cantidad de esfuerzo, bien o mal ejecutado, \n",
        "# para tomar día a día mejores decisiones en torno al fenómeno de abandono para con su base de clientes"
      ],
      "metadata": {
        "id": "pWk5MUXy3fZi"
      },
      "execution_count": null,
      "outputs": []
    }
  ]
}